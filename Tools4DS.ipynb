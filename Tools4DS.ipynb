{
 "cells": [
  {
   "cell_type": "markdown",
   "id": "5c1c2b23",
   "metadata": {},
   "source": [
    "# Data Science Tools and Ecosystem"
   ]
  },
  {
   "cell_type": "markdown",
   "id": "0ece97e0",
   "metadata": {},
   "source": [
    "In this notebook, data science tools and ecosystem are summarized"
   ]
  },
  {
   "cell_type": "markdown",
   "id": "a427daa5",
   "metadata": {},
   "source": [
    "##### Objectives\n",
    "\n",
    "- Python\n",
    "- R\n",
    "- C\n",
    "- Java\n",
    "- Scala"
   ]
  },
  {
   "cell_type": "markdown",
   "id": "58904c8b",
   "metadata": {},
   "source": [
    "Some of the comon languages data scientists use are:\n",
    "1. Python\n",
    "2. R\n",
    "3. C++"
   ]
  },
  {
   "cell_type": "markdown",
   "id": "31139a46",
   "metadata": {},
   "source": [
    "Some commonly used libraries by data scientists include:\n",
    "1. Pandas\n",
    "2. Numpy\n",
    "3. Matplotlib\n",
    "4. Scikit-learn"
   ]
  },
  {
   "cell_type": "markdown",
   "id": "2a61048c",
   "metadata": {},
   "source": []
  },
  {
   "cell_type": "markdown",
   "id": "260d0ce1",
   "metadata": {},
   "source": [
    "|Data Science Tools|\n",
    "|----|\n",
    "|Jupyter Notebooks|\n",
    "|PyCharm|\n",
    "|Spyder|"
   ]
  },
  {
   "cell_type": "markdown",
   "id": "7ac94e87",
   "metadata": {},
   "source": [
    "### Below are ta few exampls of evaluating arithmetic expressions in Python"
   ]
  },
  {
   "cell_type": "code",
   "execution_count": 1,
   "id": "182ac927",
   "metadata": {},
   "outputs": [
    {
     "data": {
      "text/plain": [
       "17"
      ]
     },
     "execution_count": 1,
     "metadata": {},
     "output_type": "execute_result"
    }
   ],
   "source": [
    "# this is a simple arithmetic expression to multiply then add integers\n",
    "(3*4)+5"
   ]
  },
  {
   "cell_type": "code",
   "execution_count": 2,
   "id": "f1c96515",
   "metadata": {},
   "outputs": [
    {
     "name": "stdout",
     "output_type": "stream",
     "text": [
      "200 minutes make 3.3333333333333335 hours\n"
     ]
    }
   ],
   "source": [
    "# This will convert 200 minutes to hours by dividing by 60\n",
    "mins=200\n",
    "hrs=60\n",
    "result=200/60\n",
    "print(\"200 minutes make\",result,\"hours\" )"
   ]
  },
  {
   "cell_type": "markdown",
   "id": "7968a9bc",
   "metadata": {},
   "source": [
    "## Author\n",
    "\n",
    "Oluwatooni"
   ]
  },
  {
   "cell_type": "code",
   "execution_count": null,
   "id": "0bddef6a",
   "metadata": {},
   "outputs": [],
   "source": []
  }
 ],
 "metadata": {
  "kernelspec": {
   "display_name": "Python 3 (ipykernel)",
   "language": "python",
   "name": "python3"
  },
  "language_info": {
   "codemirror_mode": {
    "name": "ipython",
    "version": 3
   },
   "file_extension": ".py",
   "mimetype": "text/x-python",
   "name": "python",
   "nbconvert_exporter": "python",
   "pygments_lexer": "ipython3",
   "version": "3.11.4"
  }
 },
 "nbformat": 4,
 "nbformat_minor": 5
}
